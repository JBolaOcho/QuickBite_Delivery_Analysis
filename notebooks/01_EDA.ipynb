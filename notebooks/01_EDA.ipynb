{
 "cells": [
  {
   "cell_type": "code",
   "execution_count": 1,
   "metadata": {},
   "outputs": [],
   "source": [
    "# Importamos librerias\n",
    "import pandas as pd\n",
    "import matplotlib.pyplot as plt\n",
    "import seaborn as sns\n",
    "import numpy as np"
   ]
  },
  {
   "cell_type": "markdown",
   "metadata": {},
   "source": [
    "## Exploración de datos"
   ]
  },
  {
   "cell_type": "code",
   "execution_count": 2,
   "metadata": {},
   "outputs": [],
   "source": [
    "# Importamos el dataset raw (Food_Delivery_Times.csv)\n",
    "df = pd.read_csv(\"../data/raw.csv\")"
   ]
  },
  {
   "cell_type": "code",
   "execution_count": 3,
   "metadata": {},
   "outputs": [
    {
     "name": "stdout",
     "output_type": "stream",
     "text": [
      "<class 'pandas.core.frame.DataFrame'>\n",
      "RangeIndex: 1000 entries, 0 to 999\n",
      "Data columns (total 9 columns):\n",
      " #   Column                  Non-Null Count  Dtype  \n",
      "---  ------                  --------------  -----  \n",
      " 0   Order_ID                1000 non-null   int64  \n",
      " 1   Distance_km             1000 non-null   float64\n",
      " 2   Weather                 970 non-null    object \n",
      " 3   Traffic_Level           970 non-null    object \n",
      " 4   Time_of_Day             970 non-null    object \n",
      " 5   Vehicle_Type            1000 non-null   object \n",
      " 6   Preparation_Time_min    1000 non-null   int64  \n",
      " 7   Courier_Experience_yrs  970 non-null    float64\n",
      " 8   Delivery_Time_min       1000 non-null   int64  \n",
      "dtypes: float64(2), int64(3), object(4)\n",
      "memory usage: 70.4+ KB\n"
     ]
    },
    {
     "data": {
      "text/plain": [
       "None"
      ]
     },
     "metadata": {},
     "output_type": "display_data"
    }
   ],
   "source": [
    "# Observamos el contenido del dataset\n",
    "display(df.info())"
   ]
  },
  {
   "cell_type": "code",
   "execution_count": 4,
   "metadata": {},
   "outputs": [
    {
     "data": {
      "application/vnd.microsoft.datawrangler.viewer.v0+json": {
       "columns": [
        {
         "name": "index",
         "rawType": "int64",
         "type": "integer"
        },
        {
         "name": "Order_ID",
         "rawType": "int64",
         "type": "integer"
        },
        {
         "name": "Distance_km",
         "rawType": "float64",
         "type": "float"
        },
        {
         "name": "Weather",
         "rawType": "object",
         "type": "string"
        },
        {
         "name": "Traffic_Level",
         "rawType": "object",
         "type": "string"
        },
        {
         "name": "Time_of_Day",
         "rawType": "object",
         "type": "string"
        },
        {
         "name": "Vehicle_Type",
         "rawType": "object",
         "type": "string"
        },
        {
         "name": "Preparation_Time_min",
         "rawType": "int64",
         "type": "integer"
        },
        {
         "name": "Courier_Experience_yrs",
         "rawType": "float64",
         "type": "float"
        },
        {
         "name": "Delivery_Time_min",
         "rawType": "int64",
         "type": "integer"
        }
       ],
       "conversionMethod": "pd.DataFrame",
       "ref": "7eba8044-181f-4cdf-a3af-457b26107f8e",
       "rows": [
        [
         "0",
         "522",
         "7.93",
         "Windy",
         "Low",
         "Afternoon",
         "Scooter",
         "12",
         "1.0",
         "43"
        ],
        [
         "1",
         "738",
         "16.42",
         "Clear",
         "Medium",
         "Evening",
         "Bike",
         "20",
         "2.0",
         "84"
        ],
        [
         "2",
         "741",
         "9.52",
         "Foggy",
         "Low",
         "Night",
         "Scooter",
         "28",
         "1.0",
         "59"
        ],
        [
         "3",
         "661",
         "7.44",
         "Rainy",
         "Medium",
         "Afternoon",
         "Scooter",
         "5",
         "1.0",
         "37"
        ],
        [
         "4",
         "412",
         "19.03",
         "Clear",
         "Low",
         "Morning",
         "Bike",
         "16",
         "5.0",
         "68"
        ]
       ],
       "shape": {
        "columns": 9,
        "rows": 5
       }
      },
      "text/html": [
       "<div>\n",
       "<style scoped>\n",
       "    .dataframe tbody tr th:only-of-type {\n",
       "        vertical-align: middle;\n",
       "    }\n",
       "\n",
       "    .dataframe tbody tr th {\n",
       "        vertical-align: top;\n",
       "    }\n",
       "\n",
       "    .dataframe thead th {\n",
       "        text-align: right;\n",
       "    }\n",
       "</style>\n",
       "<table border=\"1\" class=\"dataframe\">\n",
       "  <thead>\n",
       "    <tr style=\"text-align: right;\">\n",
       "      <th></th>\n",
       "      <th>Order_ID</th>\n",
       "      <th>Distance_km</th>\n",
       "      <th>Weather</th>\n",
       "      <th>Traffic_Level</th>\n",
       "      <th>Time_of_Day</th>\n",
       "      <th>Vehicle_Type</th>\n",
       "      <th>Preparation_Time_min</th>\n",
       "      <th>Courier_Experience_yrs</th>\n",
       "      <th>Delivery_Time_min</th>\n",
       "    </tr>\n",
       "  </thead>\n",
       "  <tbody>\n",
       "    <tr>\n",
       "      <th>0</th>\n",
       "      <td>522</td>\n",
       "      <td>7.93</td>\n",
       "      <td>Windy</td>\n",
       "      <td>Low</td>\n",
       "      <td>Afternoon</td>\n",
       "      <td>Scooter</td>\n",
       "      <td>12</td>\n",
       "      <td>1.0</td>\n",
       "      <td>43</td>\n",
       "    </tr>\n",
       "    <tr>\n",
       "      <th>1</th>\n",
       "      <td>738</td>\n",
       "      <td>16.42</td>\n",
       "      <td>Clear</td>\n",
       "      <td>Medium</td>\n",
       "      <td>Evening</td>\n",
       "      <td>Bike</td>\n",
       "      <td>20</td>\n",
       "      <td>2.0</td>\n",
       "      <td>84</td>\n",
       "    </tr>\n",
       "    <tr>\n",
       "      <th>2</th>\n",
       "      <td>741</td>\n",
       "      <td>9.52</td>\n",
       "      <td>Foggy</td>\n",
       "      <td>Low</td>\n",
       "      <td>Night</td>\n",
       "      <td>Scooter</td>\n",
       "      <td>28</td>\n",
       "      <td>1.0</td>\n",
       "      <td>59</td>\n",
       "    </tr>\n",
       "    <tr>\n",
       "      <th>3</th>\n",
       "      <td>661</td>\n",
       "      <td>7.44</td>\n",
       "      <td>Rainy</td>\n",
       "      <td>Medium</td>\n",
       "      <td>Afternoon</td>\n",
       "      <td>Scooter</td>\n",
       "      <td>5</td>\n",
       "      <td>1.0</td>\n",
       "      <td>37</td>\n",
       "    </tr>\n",
       "    <tr>\n",
       "      <th>4</th>\n",
       "      <td>412</td>\n",
       "      <td>19.03</td>\n",
       "      <td>Clear</td>\n",
       "      <td>Low</td>\n",
       "      <td>Morning</td>\n",
       "      <td>Bike</td>\n",
       "      <td>16</td>\n",
       "      <td>5.0</td>\n",
       "      <td>68</td>\n",
       "    </tr>\n",
       "  </tbody>\n",
       "</table>\n",
       "</div>"
      ],
      "text/plain": [
       "   Order_ID  Distance_km Weather Traffic_Level Time_of_Day Vehicle_Type  \\\n",
       "0       522         7.93   Windy           Low   Afternoon      Scooter   \n",
       "1       738        16.42   Clear        Medium     Evening         Bike   \n",
       "2       741         9.52   Foggy           Low       Night      Scooter   \n",
       "3       661         7.44   Rainy        Medium   Afternoon      Scooter   \n",
       "4       412        19.03   Clear           Low     Morning         Bike   \n",
       "\n",
       "   Preparation_Time_min  Courier_Experience_yrs  Delivery_Time_min  \n",
       "0                    12                     1.0                 43  \n",
       "1                    20                     2.0                 84  \n",
       "2                    28                     1.0                 59  \n",
       "3                     5                     1.0                 37  \n",
       "4                    16                     5.0                 68  "
      ]
     },
     "metadata": {},
     "output_type": "display_data"
    },
    {
     "data": {
      "application/vnd.microsoft.datawrangler.viewer.v0+json": {
       "columns": [
        {
         "name": "index",
         "rawType": "int64",
         "type": "integer"
        },
        {
         "name": "Order_ID",
         "rawType": "int64",
         "type": "integer"
        },
        {
         "name": "Distance_km",
         "rawType": "float64",
         "type": "float"
        },
        {
         "name": "Weather",
         "rawType": "object",
         "type": "string"
        },
        {
         "name": "Traffic_Level",
         "rawType": "object",
         "type": "string"
        },
        {
         "name": "Time_of_Day",
         "rawType": "object",
         "type": "string"
        },
        {
         "name": "Vehicle_Type",
         "rawType": "object",
         "type": "string"
        },
        {
         "name": "Preparation_Time_min",
         "rawType": "int64",
         "type": "integer"
        },
        {
         "name": "Courier_Experience_yrs",
         "rawType": "float64",
         "type": "float"
        },
        {
         "name": "Delivery_Time_min",
         "rawType": "int64",
         "type": "integer"
        }
       ],
       "conversionMethod": "pd.DataFrame",
       "ref": "e81b1ad7-a5f2-4320-b824-c19d9122ab29",
       "rows": [
        [
         "995",
         "107",
         "8.5",
         "Clear",
         "High",
         "Evening",
         "Car",
         "13",
         "3.0",
         "54"
        ],
        [
         "996",
         "271",
         "16.28",
         "Rainy",
         "Low",
         "Morning",
         "Scooter",
         "8",
         "9.0",
         "71"
        ],
        [
         "997",
         "861",
         "15.62",
         "Snowy",
         "High",
         "Evening",
         "Scooter",
         "26",
         "2.0",
         "81"
        ],
        [
         "998",
         "436",
         "14.17",
         "Clear",
         "Low",
         "Afternoon",
         "Bike",
         "8",
         "0.0",
         "55"
        ],
        [
         "999",
         "103",
         "6.63",
         "Foggy",
         "Low",
         "Night",
         "Scooter",
         "24",
         "3.0",
         "58"
        ]
       ],
       "shape": {
        "columns": 9,
        "rows": 5
       }
      },
      "text/html": [
       "<div>\n",
       "<style scoped>\n",
       "    .dataframe tbody tr th:only-of-type {\n",
       "        vertical-align: middle;\n",
       "    }\n",
       "\n",
       "    .dataframe tbody tr th {\n",
       "        vertical-align: top;\n",
       "    }\n",
       "\n",
       "    .dataframe thead th {\n",
       "        text-align: right;\n",
       "    }\n",
       "</style>\n",
       "<table border=\"1\" class=\"dataframe\">\n",
       "  <thead>\n",
       "    <tr style=\"text-align: right;\">\n",
       "      <th></th>\n",
       "      <th>Order_ID</th>\n",
       "      <th>Distance_km</th>\n",
       "      <th>Weather</th>\n",
       "      <th>Traffic_Level</th>\n",
       "      <th>Time_of_Day</th>\n",
       "      <th>Vehicle_Type</th>\n",
       "      <th>Preparation_Time_min</th>\n",
       "      <th>Courier_Experience_yrs</th>\n",
       "      <th>Delivery_Time_min</th>\n",
       "    </tr>\n",
       "  </thead>\n",
       "  <tbody>\n",
       "    <tr>\n",
       "      <th>995</th>\n",
       "      <td>107</td>\n",
       "      <td>8.50</td>\n",
       "      <td>Clear</td>\n",
       "      <td>High</td>\n",
       "      <td>Evening</td>\n",
       "      <td>Car</td>\n",
       "      <td>13</td>\n",
       "      <td>3.0</td>\n",
       "      <td>54</td>\n",
       "    </tr>\n",
       "    <tr>\n",
       "      <th>996</th>\n",
       "      <td>271</td>\n",
       "      <td>16.28</td>\n",
       "      <td>Rainy</td>\n",
       "      <td>Low</td>\n",
       "      <td>Morning</td>\n",
       "      <td>Scooter</td>\n",
       "      <td>8</td>\n",
       "      <td>9.0</td>\n",
       "      <td>71</td>\n",
       "    </tr>\n",
       "    <tr>\n",
       "      <th>997</th>\n",
       "      <td>861</td>\n",
       "      <td>15.62</td>\n",
       "      <td>Snowy</td>\n",
       "      <td>High</td>\n",
       "      <td>Evening</td>\n",
       "      <td>Scooter</td>\n",
       "      <td>26</td>\n",
       "      <td>2.0</td>\n",
       "      <td>81</td>\n",
       "    </tr>\n",
       "    <tr>\n",
       "      <th>998</th>\n",
       "      <td>436</td>\n",
       "      <td>14.17</td>\n",
       "      <td>Clear</td>\n",
       "      <td>Low</td>\n",
       "      <td>Afternoon</td>\n",
       "      <td>Bike</td>\n",
       "      <td>8</td>\n",
       "      <td>0.0</td>\n",
       "      <td>55</td>\n",
       "    </tr>\n",
       "    <tr>\n",
       "      <th>999</th>\n",
       "      <td>103</td>\n",
       "      <td>6.63</td>\n",
       "      <td>Foggy</td>\n",
       "      <td>Low</td>\n",
       "      <td>Night</td>\n",
       "      <td>Scooter</td>\n",
       "      <td>24</td>\n",
       "      <td>3.0</td>\n",
       "      <td>58</td>\n",
       "    </tr>\n",
       "  </tbody>\n",
       "</table>\n",
       "</div>"
      ],
      "text/plain": [
       "     Order_ID  Distance_km Weather Traffic_Level Time_of_Day Vehicle_Type  \\\n",
       "995       107         8.50   Clear          High     Evening          Car   \n",
       "996       271        16.28   Rainy           Low     Morning      Scooter   \n",
       "997       861        15.62   Snowy          High     Evening      Scooter   \n",
       "998       436        14.17   Clear           Low   Afternoon         Bike   \n",
       "999       103         6.63   Foggy           Low       Night      Scooter   \n",
       "\n",
       "     Preparation_Time_min  Courier_Experience_yrs  Delivery_Time_min  \n",
       "995                    13                     3.0                 54  \n",
       "996                     8                     9.0                 71  \n",
       "997                    26                     2.0                 81  \n",
       "998                     8                     0.0                 55  \n",
       "999                    24                     3.0                 58  "
      ]
     },
     "metadata": {},
     "output_type": "display_data"
    },
    {
     "data": {
      "application/vnd.microsoft.datawrangler.viewer.v0+json": {
       "columns": [
        {
         "name": "index",
         "rawType": "object",
         "type": "string"
        },
        {
         "name": "Order_ID",
         "rawType": "float64",
         "type": "float"
        },
        {
         "name": "Distance_km",
         "rawType": "float64",
         "type": "float"
        },
        {
         "name": "Preparation_Time_min",
         "rawType": "float64",
         "type": "float"
        },
        {
         "name": "Courier_Experience_yrs",
         "rawType": "float64",
         "type": "float"
        },
        {
         "name": "Delivery_Time_min",
         "rawType": "float64",
         "type": "float"
        }
       ],
       "conversionMethod": "pd.DataFrame",
       "ref": "47ae99fb-68bb-4abf-ae2a-639d498ea4f5",
       "rows": [
        [
         "count",
         "1000.0",
         "1000.0",
         "1000.0",
         "970.0",
         "1000.0"
        ],
        [
         "mean",
         "500.5",
         "10.05997",
         "16.982",
         "4.579381443298969",
         "56.732"
        ],
        [
         "std",
         "288.8194360957494",
         "5.696655526120856",
         "7.204552837031704",
         "2.9143939478823078",
         "22.07091528009886"
        ],
        [
         "min",
         "1.0",
         "0.59",
         "5.0",
         "0.0",
         "8.0"
        ],
        [
         "25%",
         "250.75",
         "5.105",
         "11.0",
         "2.0",
         "41.0"
        ],
        [
         "50%",
         "500.5",
         "10.19",
         "17.0",
         "5.0",
         "55.5"
        ],
        [
         "75%",
         "750.25",
         "15.0175",
         "23.0",
         "7.0",
         "71.0"
        ],
        [
         "max",
         "1000.0",
         "19.99",
         "29.0",
         "9.0",
         "153.0"
        ]
       ],
       "shape": {
        "columns": 5,
        "rows": 8
       }
      },
      "text/html": [
       "<div>\n",
       "<style scoped>\n",
       "    .dataframe tbody tr th:only-of-type {\n",
       "        vertical-align: middle;\n",
       "    }\n",
       "\n",
       "    .dataframe tbody tr th {\n",
       "        vertical-align: top;\n",
       "    }\n",
       "\n",
       "    .dataframe thead th {\n",
       "        text-align: right;\n",
       "    }\n",
       "</style>\n",
       "<table border=\"1\" class=\"dataframe\">\n",
       "  <thead>\n",
       "    <tr style=\"text-align: right;\">\n",
       "      <th></th>\n",
       "      <th>Order_ID</th>\n",
       "      <th>Distance_km</th>\n",
       "      <th>Preparation_Time_min</th>\n",
       "      <th>Courier_Experience_yrs</th>\n",
       "      <th>Delivery_Time_min</th>\n",
       "    </tr>\n",
       "  </thead>\n",
       "  <tbody>\n",
       "    <tr>\n",
       "      <th>count</th>\n",
       "      <td>1000.000000</td>\n",
       "      <td>1000.000000</td>\n",
       "      <td>1000.000000</td>\n",
       "      <td>970.000000</td>\n",
       "      <td>1000.000000</td>\n",
       "    </tr>\n",
       "    <tr>\n",
       "      <th>mean</th>\n",
       "      <td>500.500000</td>\n",
       "      <td>10.059970</td>\n",
       "      <td>16.982000</td>\n",
       "      <td>4.579381</td>\n",
       "      <td>56.732000</td>\n",
       "    </tr>\n",
       "    <tr>\n",
       "      <th>std</th>\n",
       "      <td>288.819436</td>\n",
       "      <td>5.696656</td>\n",
       "      <td>7.204553</td>\n",
       "      <td>2.914394</td>\n",
       "      <td>22.070915</td>\n",
       "    </tr>\n",
       "    <tr>\n",
       "      <th>min</th>\n",
       "      <td>1.000000</td>\n",
       "      <td>0.590000</td>\n",
       "      <td>5.000000</td>\n",
       "      <td>0.000000</td>\n",
       "      <td>8.000000</td>\n",
       "    </tr>\n",
       "    <tr>\n",
       "      <th>25%</th>\n",
       "      <td>250.750000</td>\n",
       "      <td>5.105000</td>\n",
       "      <td>11.000000</td>\n",
       "      <td>2.000000</td>\n",
       "      <td>41.000000</td>\n",
       "    </tr>\n",
       "    <tr>\n",
       "      <th>50%</th>\n",
       "      <td>500.500000</td>\n",
       "      <td>10.190000</td>\n",
       "      <td>17.000000</td>\n",
       "      <td>5.000000</td>\n",
       "      <td>55.500000</td>\n",
       "    </tr>\n",
       "    <tr>\n",
       "      <th>75%</th>\n",
       "      <td>750.250000</td>\n",
       "      <td>15.017500</td>\n",
       "      <td>23.000000</td>\n",
       "      <td>7.000000</td>\n",
       "      <td>71.000000</td>\n",
       "    </tr>\n",
       "    <tr>\n",
       "      <th>max</th>\n",
       "      <td>1000.000000</td>\n",
       "      <td>19.990000</td>\n",
       "      <td>29.000000</td>\n",
       "      <td>9.000000</td>\n",
       "      <td>153.000000</td>\n",
       "    </tr>\n",
       "  </tbody>\n",
       "</table>\n",
       "</div>"
      ],
      "text/plain": [
       "          Order_ID  Distance_km  Preparation_Time_min  Courier_Experience_yrs  \\\n",
       "count  1000.000000  1000.000000           1000.000000              970.000000   \n",
       "mean    500.500000    10.059970             16.982000                4.579381   \n",
       "std     288.819436     5.696656              7.204553                2.914394   \n",
       "min       1.000000     0.590000              5.000000                0.000000   \n",
       "25%     250.750000     5.105000             11.000000                2.000000   \n",
       "50%     500.500000    10.190000             17.000000                5.000000   \n",
       "75%     750.250000    15.017500             23.000000                7.000000   \n",
       "max    1000.000000    19.990000             29.000000                9.000000   \n",
       "\n",
       "       Delivery_Time_min  \n",
       "count        1000.000000  \n",
       "mean           56.732000  \n",
       "std            22.070915  \n",
       "min             8.000000  \n",
       "25%            41.000000  \n",
       "50%            55.500000  \n",
       "75%            71.000000  \n",
       "max           153.000000  "
      ]
     },
     "metadata": {},
     "output_type": "display_data"
    }
   ],
   "source": [
    "# Inspección general del dataset\n",
    "display(df.head())\n",
    "display(df.tail())\n",
    "display(df.describe())"
   ]
  },
  {
   "cell_type": "code",
   "execution_count": null,
   "metadata": {},
   "outputs": [
    {
     "data": {
      "application/vnd.microsoft.datawrangler.viewer.v0+json": {
       "columns": [
        {
         "name": "index",
         "rawType": "object",
         "type": "string"
        },
        {
         "name": "Weather",
         "rawType": "object",
         "type": "unknown"
        },
        {
         "name": "Traffic_Level",
         "rawType": "object",
         "type": "unknown"
        },
        {
         "name": "Time_of_Day",
         "rawType": "object",
         "type": "unknown"
        },
        {
         "name": "Vehicle_Type",
         "rawType": "object",
         "type": "unknown"
        }
       ],
       "conversionMethod": "pd.DataFrame",
       "ref": "39133cd1-adbb-445b-bc36-b8e74ef03410",
       "rows": [
        [
         "count",
         "970",
         "970",
         "970",
         "1000"
        ],
        [
         "unique",
         "5",
         "3",
         "4",
         "3"
        ],
        [
         "top",
         "Clear",
         "Medium",
         "Morning",
         "Bike"
        ],
        [
         "freq",
         "470",
         "390",
         "308",
         "503"
        ]
       ],
       "shape": {
        "columns": 4,
        "rows": 4
       }
      },
      "text/html": [
       "<div>\n",
       "<style scoped>\n",
       "    .dataframe tbody tr th:only-of-type {\n",
       "        vertical-align: middle;\n",
       "    }\n",
       "\n",
       "    .dataframe tbody tr th {\n",
       "        vertical-align: top;\n",
       "    }\n",
       "\n",
       "    .dataframe thead th {\n",
       "        text-align: right;\n",
       "    }\n",
       "</style>\n",
       "<table border=\"1\" class=\"dataframe\">\n",
       "  <thead>\n",
       "    <tr style=\"text-align: right;\">\n",
       "      <th></th>\n",
       "      <th>Weather</th>\n",
       "      <th>Traffic_Level</th>\n",
       "      <th>Time_of_Day</th>\n",
       "      <th>Vehicle_Type</th>\n",
       "    </tr>\n",
       "  </thead>\n",
       "  <tbody>\n",
       "    <tr>\n",
       "      <th>count</th>\n",
       "      <td>970</td>\n",
       "      <td>970</td>\n",
       "      <td>970</td>\n",
       "      <td>1000</td>\n",
       "    </tr>\n",
       "    <tr>\n",
       "      <th>unique</th>\n",
       "      <td>5</td>\n",
       "      <td>3</td>\n",
       "      <td>4</td>\n",
       "      <td>3</td>\n",
       "    </tr>\n",
       "    <tr>\n",
       "      <th>top</th>\n",
       "      <td>Clear</td>\n",
       "      <td>Medium</td>\n",
       "      <td>Morning</td>\n",
       "      <td>Bike</td>\n",
       "    </tr>\n",
       "    <tr>\n",
       "      <th>freq</th>\n",
       "      <td>470</td>\n",
       "      <td>390</td>\n",
       "      <td>308</td>\n",
       "      <td>503</td>\n",
       "    </tr>\n",
       "  </tbody>\n",
       "</table>\n",
       "</div>"
      ],
      "text/plain": [
       "       Weather Traffic_Level Time_of_Day Vehicle_Type\n",
       "count      970           970         970         1000\n",
       "unique       5             3           4            3\n",
       "top      Clear        Medium     Morning         Bike\n",
       "freq       470           390         308          503"
      ]
     },
     "metadata": {},
     "output_type": "display_data"
    }
   ],
   "source": [
    "# Inspección de varaibles categoricas\n",
    "display(df.describe(exclude=(\"int\", \"float\")))"
   ]
  },
  {
   "cell_type": "markdown",
   "metadata": {},
   "source": [
    "**Observaciones**\n",
    "\n",
    "Valores ausentes:\n",
    "Se detectan valores nulos en algunas columnas del conjunto de datos. Estos serán tratados en etapas posteriores mediante imputación.\n",
    "\n",
    "Distribución y simetría:\n",
    "Las variables categóricas muestran una distribución equilibrada. En el caso de las variables numéricas, la proximidad entre la media y la mediana sugiere distribuciones simétricas en general.\n",
    "\n",
    "Rango y dispersión:\n",
    "No se observan valores extremos evidentes en los rangos de las variables numéricas, lo que indica una dispersión razonable de los datos.\n",
    "\n",
    "Posibles errores lógicos:\n",
    "No se han identificado valores anómalos o inconsistencias lógicas (como valores negativos donde no corresponde), lo cual sugiere una buena calidad inicial del dataset."
   ]
  },
  {
   "cell_type": "code",
   "execution_count": 4,
   "metadata": {},
   "outputs": [
    {
     "data": {
      "text/plain": [
       "Order_ID                   0\n",
       "Distance_km                0\n",
       "Weather                   30\n",
       "Traffic_Level             30\n",
       "Time_of_Day               30\n",
       "Vehicle_Type               0\n",
       "Preparation_Time_min       0\n",
       "Courier_Experience_yrs    30\n",
       "Delivery_Time_min          0\n",
       "dtype: int64"
      ]
     },
     "metadata": {},
     "output_type": "display_data"
    }
   ],
   "source": [
    "# Verificamos valores nulos\n",
    "display(df.isnull().sum())"
   ]
  },
  {
   "cell_type": "markdown",
   "metadata": {},
   "source": [
    "Dadido a que existen valores nulos en el dataset, realizaremos un conteo total de estos para evaluar su impacto sobre el conjunto de datos. Esta información nos permitirá tomar decisiones informadas sobre el tratamiento más adecuado, ya sea imputación o eliminación, según el grado de afectación."
   ]
  },
  {
   "cell_type": "code",
   "execution_count": 5,
   "metadata": {},
   "outputs": [
    {
     "name": "stdout",
     "output_type": "stream",
     "text": [
      "Nulos totales: 120 (1.33%)\n"
     ]
    }
   ],
   "source": [
    "# Sumaremos la totalidad de los valores nulos\n",
    "total_nulos = df.isnull().sum().sum()\n",
    "total_celdas = df.size\n",
    "porcentaje = (total_nulos / total_celdas) * 100\n",
    "print(f\"Nulos totales: {total_nulos} ({porcentaje:.2f}%)\")"
   ]
  },
  {
   "cell_type": "markdown",
   "metadata": {},
   "source": [
    "Durante la inspección de calidad de los datos, se identificaron 120 valores nulos, lo que representa aproximadamente el 1.33% del total de entradas del dataset. Este porcentaje es relativamente bajo y no representa una amenaza significativa para la integridad del análisis o los modelos que se construyan posteriormente.\n",
    "\n",
    "Para asegurar la consistencia de los datos y evitar pérdida de información, se procederá a imputar los valores faltantes utilizando las siguientes estrategias:\n",
    "\n",
    "Variables numéricas: serán imputadas utilizando la media de cada columna.\n",
    "\n",
    "Variables categóricas: serán imputadas utilizando la moda, es decir, el valor más frecuente.\n",
    "\n",
    "Este enfoque permite conservar la mayor cantidad posible de datos sin introducir sesgos importantes, manteniendo así la representatividad del conjunto."
   ]
  },
  {
   "cell_type": "code",
   "execution_count": 6,
   "metadata": {},
   "outputs": [],
   "source": [
    "# Imputaremos de manera estadística\n",
    "\n",
    "# Variables categóricas\n",
    "df[\"Weather\"] = df[\"Weather\"].fillna(df[\"Weather\"].mode()[0])\n",
    "df[\"Traffic_Level\"] = df[\"Traffic_Level\"].fillna(df[\"Traffic_Level\"].mode()[0])\n",
    "df[\"Time_of_Day\"] = df[\"Time_of_Day\"].fillna(df[\"Time_of_Day\"].mode()[0])\n",
    "\n",
    "# Variables numéricas\n",
    "df[\"Courier_Experience_yrs\"] = df[\"Courier_Experience_yrs\"].fillna(df[\"Courier_Experience_yrs\"].mean())"
   ]
  },
  {
   "cell_type": "code",
   "execution_count": 7,
   "metadata": {},
   "outputs": [
    {
     "data": {
      "text/plain": [
       "Order_ID                  0\n",
       "Distance_km               0\n",
       "Weather                   0\n",
       "Traffic_Level             0\n",
       "Time_of_Day               0\n",
       "Vehicle_Type              0\n",
       "Preparation_Time_min      0\n",
       "Courier_Experience_yrs    0\n",
       "Delivery_Time_min         0\n",
       "dtype: int64"
      ]
     },
     "metadata": {},
     "output_type": "display_data"
    }
   ],
   "source": [
    "# Confirmamos la cantidad de valores nulos en el Dataframe\n",
    "display(df.isnull().sum())"
   ]
  },
  {
   "cell_type": "code",
   "execution_count": 8,
   "metadata": {},
   "outputs": [
    {
     "name": "stdout",
     "output_type": "stream",
     "text": [
      "Total de valores duplicados: 0\n"
     ]
    }
   ],
   "source": [
    "# Verificamos valors duplicados\n",
    "print(f\"Total de valores duplicados: {df.duplicated().sum()}\")"
   ]
  },
  {
   "cell_type": "markdown",
   "metadata": {},
   "source": [
    "## Vizualización de nuestros datos"
   ]
  },
  {
   "cell_type": "code",
   "execution_count": 31,
   "metadata": {},
   "outputs": [
    {
     "data": {
      "image/png": "[encoded data removed]",
      "text/plain": [
       "<Figure size 900x400 with 1 Axes>"
      ]
     },
     "metadata": {},
     "output_type": "display_data"
    }
   ],
   "source": [
    "# Vizualización de distribuciones\n",
    "plt.figure(figsize=(9, 4))\n",
    "sns.histplot(df[\"Delivery_Time_min\"], bins=30, kde=True)\n",
    "plt.xlabel(\"Tiempo de entrega\")\n",
    "plt.ylabel(\"Cantidad\")\n",
    "plt.title(\"Distribución de tiempo de entrega\")\n",
    "plt.show()"
   ]
  },
  {
   "cell_type": "code",
   "execution_count": null,
   "metadata": {},
   "outputs": [
    {
     "data": {
      "image/png": "[encoded data removed]",
      "text/plain": [
       "<Figure size 900x500 with 2 Axes>"
      ]
     },
     "metadata": {},
     "output_type": "display_data"
    }
   ],
   "source": [
    "# Análisis de correlación\n",
    "\n",
    "# Creación de filtros de columnas\n",
    "df_column_num = df.select_dtypes(include=(\"int\", \"float\"))\n",
    "df_column_obj = df.select_dtypes(include=(\"object\"))\n",
    "\n",
    "plt.figure(figsize=(9, 5))\n",
    "sns.heatmap(df_column_num.corr(), annot=True, cmap=\"coolwarm\", fmt=\".2f\", vmin=-0.5, vmax=1)\n",
    "plt.title(\"Mapa de calor de correlaciones\")\n",
    "plt.show()"
   ]
  },
  {
   "cell_type": "markdown",
   "metadata": {},
   "source": [
    "**Observiaciones**\n",
    "\n",
    "Delivery_Time_min muestra una alta correlación positiva con Distance_km (r = 0.78). Esta relación es consistente con el comportamiento esperado: a mayor distancia, mayor será el tiempo de entrega. Esta variable será clave en el modelado predictivo.\n",
    "\n",
    "Preparation_Time_min presenta una correlación moderada con Delivery_Time_min (r = 0.31), lo cual sugiere que el tiempo requerido para preparar el pedido también influye en el total de la entrega, aunque en menor medida.\n",
    "\n",
    "El resto de las variables numéricas presentan correlaciones débiles o cercanas a cero con la variable objetivo, lo que indica relaciones lineales poco significativas. No obstante, estas variables podrían aportar valor a través de relaciones no lineales o interacciones."
   ]
  },
  {
   "cell_type": "code",
   "execution_count": null,
   "metadata": {},
   "outputs": [],
   "source": []
  }
 ],
 "metadata": {
  "kernelspec": {
   "display_name": "Python 3",
   "language": "python",
   "name": "python3"
  },
  "language_info": {
   "codemirror_mode": {
    "name": "ipython",
    "version": 3
   },
   "file_extension": ".py",
   "mimetype": "text/x-python",
   "name": "python",
   "nbconvert_exporter": "python",
   "pygments_lexer": "ipython3",
   "version": "3.12.4"
  }
 },
 "nbformat": 4,
 "nbformat_minor": 2
}
